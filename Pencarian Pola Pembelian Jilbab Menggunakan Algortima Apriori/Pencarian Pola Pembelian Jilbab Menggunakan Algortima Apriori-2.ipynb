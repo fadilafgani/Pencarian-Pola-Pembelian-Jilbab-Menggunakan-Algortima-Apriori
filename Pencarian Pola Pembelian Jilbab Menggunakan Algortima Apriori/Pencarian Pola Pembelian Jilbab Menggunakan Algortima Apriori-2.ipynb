{
 "cells": [
  {
   "cell_type": "code",
   "execution_count": 1,
   "metadata": {},
   "outputs": [],
   "source": [
    "import numpy as np  \n",
    "import matplotlib.pyplot as plt  \n",
    "import pandas as pd  \n",
    "from apyori import apriori"
   ]
  },
  {
   "cell_type": "code",
   "execution_count": 2,
   "metadata": {},
   "outputs": [
    {
     "name": "stdout",
     "output_type": "stream",
     "text": [
      "11\n"
     ]
    },
    {
     "data": {
      "text/html": [
       "<div>\n",
       "<style scoped>\n",
       "    .dataframe tbody tr th:only-of-type {\n",
       "        vertical-align: middle;\n",
       "    }\n",
       "\n",
       "    .dataframe tbody tr th {\n",
       "        vertical-align: top;\n",
       "    }\n",
       "\n",
       "    .dataframe thead th {\n",
       "        text-align: right;\n",
       "    }\n",
       "</style>\n",
       "<table border=\"1\" class=\"dataframe\">\n",
       "  <thead>\n",
       "    <tr style=\"text-align: right;\">\n",
       "      <th></th>\n",
       "      <th>0</th>\n",
       "      <th>1</th>\n",
       "      <th>2</th>\n",
       "      <th>3</th>\n",
       "      <th>4</th>\n",
       "      <th>5</th>\n",
       "      <th>6</th>\n",
       "    </tr>\n",
       "  </thead>\n",
       "  <tbody>\n",
       "    <tr>\n",
       "      <th>0</th>\n",
       "      <td>Transaksi</td>\n",
       "      <td>Merah</td>\n",
       "      <td>Putih</td>\n",
       "      <td>Biru</td>\n",
       "      <td>Orange</td>\n",
       "      <td>Hijau</td>\n",
       "      <td>Kuning</td>\n",
       "    </tr>\n",
       "    <tr>\n",
       "      <th>1</th>\n",
       "      <td>1</td>\n",
       "      <td>1</td>\n",
       "      <td>1</td>\n",
       "      <td>1</td>\n",
       "      <td>0</td>\n",
       "      <td>1</td>\n",
       "      <td>1</td>\n",
       "    </tr>\n",
       "    <tr>\n",
       "      <th>2</th>\n",
       "      <td>2</td>\n",
       "      <td>0</td>\n",
       "      <td>1</td>\n",
       "      <td>0</td>\n",
       "      <td>1</td>\n",
       "      <td>0</td>\n",
       "      <td>1</td>\n",
       "    </tr>\n",
       "    <tr>\n",
       "      <th>3</th>\n",
       "      <td>3</td>\n",
       "      <td>0</td>\n",
       "      <td>1</td>\n",
       "      <td>1</td>\n",
       "      <td>0</td>\n",
       "      <td>0</td>\n",
       "      <td>1</td>\n",
       "    </tr>\n",
       "    <tr>\n",
       "      <th>4</th>\n",
       "      <td>4</td>\n",
       "      <td>1</td>\n",
       "      <td>0</td>\n",
       "      <td>0</td>\n",
       "      <td>1</td>\n",
       "      <td>0</td>\n",
       "      <td>0</td>\n",
       "    </tr>\n",
       "  </tbody>\n",
       "</table>\n",
       "</div>"
      ],
      "text/plain": [
       "           0      1      2     3       4      5       6\n",
       "0  Transaksi  Merah  Putih  Biru  Orange  Hijau  Kuning\n",
       "1          1      1      1     1       0      1       1\n",
       "2          2      0      1     0       1      0       1\n",
       "3          3      0      1     1       0      0       1\n",
       "4          4      1      0     0       1      0       0"
      ]
     },
     "execution_count": 2,
     "metadata": {},
     "output_type": "execute_result"
    }
   ],
   "source": [
    "transaksi_jilbab = pd.read_csv('transaksi_jilbab.csv', header = None)\n",
    "num_records = len(transaksi_jilbab)\n",
    "print(num_records)\n",
    "transaksi_jilbab.head()"
   ]
  },
  {
   "cell_type": "code",
   "execution_count": 3,
   "metadata": {},
   "outputs": [],
   "source": [
    "records = []  \n",
    "for i in range(0, num_records):  \n",
    "    records.append([str(transaksi_jilbab.values[i,j]) for j in range(1, 7)])"
   ]
  },
  {
   "cell_type": "code",
   "execution_count": 4,
   "metadata": {},
   "outputs": [],
   "source": [
    "association_rules = apriori(records, min_support=0.0053, min_confidence=0.20, min_lift=3, min_length=2)\n",
    "association_results = list(association_rules)  "
   ]
  },
  {
   "cell_type": "code",
   "execution_count": 5,
   "metadata": {},
   "outputs": [
    {
     "name": "stdout",
     "output_type": "stream",
     "text": [
      "57\n"
     ]
    }
   ],
   "source": [
    "print(len(association_results))"
   ]
  },
  {
   "cell_type": "code",
   "execution_count": 6,
   "metadata": {},
   "outputs": [
    {
     "name": "stdout",
     "output_type": "stream",
     "text": [
      "RelationRecord(items=frozenset({'Hijau', 'Biru'}), support=0.09090909090909091, ordered_statistics=[OrderedStatistic(items_base=frozenset({'Biru'}), items_add=frozenset({'Hijau'}), confidence=1.0, lift=11.0), OrderedStatistic(items_base=frozenset({'Hijau'}), items_add=frozenset({'Biru'}), confidence=1.0, lift=11.0)])\n"
     ]
    }
   ],
   "source": [
    "print(association_results[0])"
   ]
  },
  {
   "cell_type": "code",
   "execution_count": 7,
   "metadata": {},
   "outputs": [
    {
     "name": "stdout",
     "output_type": "stream",
     "text": [
      "   Title 1 Title 2  Support Confidence  Lift\n",
      "0    Hijau    Biru  0.09090        1.0  11.0\n",
      "1   Kuning    Biru  0.09090        1.0  11.0\n",
      "2    Merah    Biru  0.09090        1.0  11.0\n",
      "3   Orange    Biru  0.09090        1.0  11.0\n",
      "4    Putih    Biru  0.09090        1.0  11.0\n",
      "5    Hijau  Kuning  0.09090        1.0  11.0\n",
      "6    Hijau   Merah  0.09090        1.0  11.0\n",
      "7    Hijau  Orange  0.09090        1.0  11.0\n",
      "8    Hijau   Putih  0.09090        1.0  11.0\n",
      "9    Merah  Kuning  0.09090        1.0  11.0\n",
      "10  Kuning  Orange  0.09090        1.0  11.0\n",
      "11  Kuning   Putih  0.09090        1.0  11.0\n",
      "12   Merah  Orange  0.09090        1.0  11.0\n",
      "13   Merah   Putih  0.09090        1.0  11.0\n",
      "14  Orange   Putih  0.09090        1.0  11.0\n",
      "15   Hijau  Kuning  0.09090        1.0  11.0\n",
      "16   Hijau   Merah  0.09090        1.0  11.0\n",
      "17   Hijau  Orange  0.09090        1.0  11.0\n",
      "18   Hijau   Putih  0.09090        1.0  11.0\n",
      "19   Merah  Kuning  0.09090        1.0  11.0\n",
      "20  Kuning  Orange  0.09090        1.0  11.0\n",
      "21  Kuning   Putih  0.09090        1.0  11.0\n",
      "22   Merah  Orange  0.09090        1.0  11.0\n",
      "23   Merah   Putih  0.09090        1.0  11.0\n",
      "24  Orange   Putih  0.09090        1.0  11.0\n",
      "25   Hijau   Merah  0.09090        1.0  11.0\n",
      "26   Hijau  Kuning  0.09090        1.0  11.0\n",
      "27   Hijau  Kuning  0.09090        1.0  11.0\n",
      "28   Hijau   Merah  0.09090        1.0  11.0\n",
      "29   Hijau   Merah  0.09090        1.0  11.0\n",
      "30   Hijau  Orange  0.09090        1.0  11.0\n",
      "31   Merah  Kuning  0.09090        1.0  11.0\n",
      "32   Merah  Kuning  0.09090        1.0  11.0\n",
      "33  Kuning  Orange  0.09090        1.0  11.0\n",
      "34   Merah  Orange  0.09090        1.0  11.0\n",
      "35   Hijau   Merah  0.09090        1.0  11.0\n",
      "36   Hijau  Kuning  0.09090        1.0  11.0\n",
      "37   Hijau  Kuning  0.09090        1.0  11.0\n",
      "38   Hijau   Merah  0.09090        1.0  11.0\n",
      "39   Hijau   Merah  0.09090        1.0  11.0\n",
      "40   Hijau  Orange  0.09090        1.0  11.0\n",
      "41   Merah  Kuning  0.09090        1.0  11.0\n",
      "42   Merah  Kuning  0.09090        1.0  11.0\n",
      "43  Kuning  Orange  0.09090        1.0  11.0\n",
      "44   Merah  Orange  0.09090        1.0  11.0\n",
      "45   Hijau   Merah  0.09090        1.0  11.0\n",
      "46   Hijau   Merah  0.09090        1.0  11.0\n",
      "47   Hijau  Kuning  0.09090        1.0  11.0\n",
      "48   Hijau   Merah  0.09090        1.0  11.0\n",
      "49   Merah  Kuning  0.09090        1.0  11.0\n",
      "50   Hijau    Biru  0.09090        1.0  11.0\n",
      "51   Hijau    Biru  0.09090        1.0  11.0\n",
      "52   Hijau    Biru  0.09090        1.0  11.0\n",
      "53   Hijau    Biru  0.09090        1.0  11.0\n",
      "54    Biru   Merah  0.09090        1.0  11.0\n",
      "55   Hijau   Merah  0.09090        1.0  11.0\n",
      "56   Hijau    Biru  0.09090        1.0  11.0\n"
     ]
    }
   ],
   "source": [
    "results = []\n",
    "for item in association_results:\n",
    "    \n",
    "    # first index of the inner list\n",
    "    # Contains base item and add item\n",
    "    pair = item[0] \n",
    "    items = [x for x in pair]\n",
    "    \n",
    "    value0 = str(items[0])\n",
    "    value1 = str(items[1])\n",
    "\n",
    "    #second index of the inner list\n",
    "    value2 = str(item[1])[:7]\n",
    "\n",
    "    #third index of the list located at 0th\n",
    "    #of the third index of the inner list\n",
    "\n",
    "    value3 = str(item[2][0][2])[:7]\n",
    "    value4 = str(item[2][0][3])[:7]\n",
    "    \n",
    "    rows = (value0, value1,value2,value3,value4)\n",
    "    results.append(rows)\n",
    "    \n",
    "labels = ['Title 1','Title 2','Support','Confidence','Lift']\n",
    "movie_suggestion = pd.DataFrame.from_records(results, columns = labels)\n",
    "\n",
    "print(movie_suggestion)"
   ]
  },
  {
   "cell_type": "code",
   "execution_count": null,
   "metadata": {},
   "outputs": [],
   "source": []
  },
  {
   "cell_type": "code",
   "execution_count": null,
   "metadata": {},
   "outputs": [],
   "source": []
  }
 ],
 "metadata": {
  "kernelspec": {
   "display_name": "Python 3",
   "language": "python",
   "name": "python3"
  },
  "language_info": {
   "codemirror_mode": {
    "name": "ipython",
    "version": 3
   },
   "file_extension": ".py",
   "mimetype": "text/x-python",
   "name": "python",
   "nbconvert_exporter": "python",
   "pygments_lexer": "ipython3",
   "version": "3.8.3"
  }
 },
 "nbformat": 4,
 "nbformat_minor": 2
}
