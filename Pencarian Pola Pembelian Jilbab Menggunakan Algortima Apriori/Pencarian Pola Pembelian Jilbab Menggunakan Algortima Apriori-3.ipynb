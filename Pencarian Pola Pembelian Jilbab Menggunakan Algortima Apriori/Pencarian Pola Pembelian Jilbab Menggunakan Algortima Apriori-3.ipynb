{
 "cells": [
  {
   "cell_type": "markdown",
   "metadata": {},
   "source": [
    "## Import the Library"
   ]
  },
  {
   "cell_type": "code",
   "execution_count": 1,
   "metadata": {
    "ExecuteTime": {
     "end_time": "2019-05-31T11:46:52.394081Z",
     "start_time": "2019-05-31T11:46:51.727017Z"
    }
   },
   "outputs": [],
   "source": [
    "import numpy as np\n",
    "import pandas as pd\n",
    "import matplotlib.pyplot as plt\n",
    "from apyori import apriori"
   ]
  },
  {
   "cell_type": "markdown",
   "metadata": {},
   "source": [
    "## Read data and Display"
   ]
  },
  {
   "cell_type": "code",
   "execution_count": 2,
   "metadata": {
    "ExecuteTime": {
     "end_time": "2019-05-31T11:46:52.446120Z",
     "start_time": "2019-05-31T11:46:52.396020Z"
    }
   },
   "outputs": [
    {
     "data": {
      "text/html": [
       "<div>\n",
       "<style scoped>\n",
       "    .dataframe tbody tr th:only-of-type {\n",
       "        vertical-align: middle;\n",
       "    }\n",
       "\n",
       "    .dataframe tbody tr th {\n",
       "        vertical-align: top;\n",
       "    }\n",
       "\n",
       "    .dataframe thead th {\n",
       "        text-align: right;\n",
       "    }\n",
       "</style>\n",
       "<table border=\"1\" class=\"dataframe\">\n",
       "  <thead>\n",
       "    <tr style=\"text-align: right;\">\n",
       "      <th></th>\n",
       "      <th>0</th>\n",
       "      <th>1</th>\n",
       "      <th>2</th>\n",
       "      <th>3</th>\n",
       "      <th>4</th>\n",
       "      <th>5</th>\n",
       "      <th>6</th>\n",
       "    </tr>\n",
       "  </thead>\n",
       "  <tbody>\n",
       "    <tr>\n",
       "      <th>0</th>\n",
       "      <td>Transaksi</td>\n",
       "      <td>Merah</td>\n",
       "      <td>Putih</td>\n",
       "      <td>Biru</td>\n",
       "      <td>Orange</td>\n",
       "      <td>Hijau</td>\n",
       "      <td>Kuning</td>\n",
       "    </tr>\n",
       "    <tr>\n",
       "      <th>1</th>\n",
       "      <td>1</td>\n",
       "      <td>1</td>\n",
       "      <td>1</td>\n",
       "      <td>1</td>\n",
       "      <td>0</td>\n",
       "      <td>1</td>\n",
       "      <td>1</td>\n",
       "    </tr>\n",
       "    <tr>\n",
       "      <th>2</th>\n",
       "      <td>2</td>\n",
       "      <td>0</td>\n",
       "      <td>1</td>\n",
       "      <td>0</td>\n",
       "      <td>1</td>\n",
       "      <td>0</td>\n",
       "      <td>1</td>\n",
       "    </tr>\n",
       "    <tr>\n",
       "      <th>3</th>\n",
       "      <td>3</td>\n",
       "      <td>0</td>\n",
       "      <td>1</td>\n",
       "      <td>1</td>\n",
       "      <td>0</td>\n",
       "      <td>0</td>\n",
       "      <td>1</td>\n",
       "    </tr>\n",
       "    <tr>\n",
       "      <th>4</th>\n",
       "      <td>4</td>\n",
       "      <td>1</td>\n",
       "      <td>0</td>\n",
       "      <td>0</td>\n",
       "      <td>1</td>\n",
       "      <td>0</td>\n",
       "      <td>0</td>\n",
       "    </tr>\n",
       "  </tbody>\n",
       "</table>\n",
       "</div>"
      ],
      "text/plain": [
       "           0      1      2     3       4      5       6\n",
       "0  Transaksi  Merah  Putih  Biru  Orange  Hijau  Kuning\n",
       "1          1      1      1     1       0      1       1\n",
       "2          2      0      1     0       1      0       1\n",
       "3          3      0      1     1       0      0       1\n",
       "4          4      1      0     0       1      0       0"
      ]
     },
     "metadata": {},
     "output_type": "display_data"
    },
    {
     "name": "stdout",
     "output_type": "stream",
     "text": [
      "(11, 7)\n"
     ]
    }
   ],
   "source": [
    "transaksi_jilbab = pd.read_csv(\"transaksi_jilbab.csv\", header=None)\n",
    "display(transaksi_jilbab.head())\n",
    "print(transaksi_jilbab.shape)"
   ]
  },
  {
   "cell_type": "markdown",
   "metadata": {},
   "source": [
    "## Preprocessing on Data"
   ]
  },
  {
   "cell_type": "code",
   "execution_count": 3,
   "metadata": {
    "ExecuteTime": {
     "end_time": "2019-05-31T11:46:53.754118Z",
     "start_time": "2019-05-31T11:46:52.448022Z"
    }
   },
   "outputs": [],
   "source": [
    "records = []\n",
    "for i in range(0, 11):\n",
    "    records.append([str(transaksi_jilbab.values[i, j]) for j in range(1, 7)])"
   ]
  },
  {
   "cell_type": "code",
   "execution_count": 4,
   "metadata": {
    "ExecuteTime": {
     "end_time": "2019-05-31T11:46:53.759119Z",
     "start_time": "2019-05-31T11:46:53.756117Z"
    }
   },
   "outputs": [
    {
     "name": "stdout",
     "output_type": "stream",
     "text": [
      "<class 'list'>\n"
     ]
    }
   ],
   "source": [
    "print(type(records))"
   ]
  },
  {
   "cell_type": "markdown",
   "metadata": {},
   "source": [
    "## Apriori Algorithm"
   ]
  },
  {
   "cell_type": "code",
   "execution_count": 5,
   "metadata": {
    "ExecuteTime": {
     "end_time": "2019-05-31T11:47:42.407141Z",
     "start_time": "2019-05-31T11:47:40.566100Z"
    }
   },
   "outputs": [],
   "source": [
    "association_rules = apriori(records, min_support=0.0045, min_confidence=0.2, min_lift=3, min_length=2)\n",
    "association_results = list(association_rules)"
   ]
  },
  {
   "cell_type": "markdown",
   "metadata": {},
   "source": [
    "## How many relation derived"
   ]
  },
  {
   "cell_type": "code",
   "execution_count": 6,
   "metadata": {
    "ExecuteTime": {
     "end_time": "2019-05-31T11:46:55.776118Z",
     "start_time": "2019-05-31T11:46:55.770118Z"
    }
   },
   "outputs": [
    {
     "name": "stdout",
     "output_type": "stream",
     "text": [
      "There are 57 Relation derived.\n"
     ]
    }
   ],
   "source": [
    "print(\"There are {} Relation derived.\".format(len(association_results)))"
   ]
  },
  {
   "cell_type": "markdown",
   "metadata": {},
   "source": [
    "## Association Rules Derived"
   ]
  },
  {
   "cell_type": "code",
   "execution_count": 7,
   "metadata": {
    "ExecuteTime": {
     "end_time": "2019-05-31T11:46:55.873119Z",
     "start_time": "2019-05-31T11:46:55.778119Z"
    },
    "code_folding": []
   },
   "outputs": [
    {
     "name": "stdout",
     "output_type": "stream",
     "text": [
      "frozenset({'Hijau', 'Biru'})\n",
      "frozenset({'Biru', 'Kuning'})\n",
      "frozenset({'Biru', 'Merah'})\n",
      "frozenset({'Biru', 'Orange'})\n",
      "frozenset({'Biru', 'Putih'})\n",
      "frozenset({'Hijau', 'Kuning'})\n",
      "frozenset({'Hijau', 'Merah'})\n",
      "frozenset({'Hijau', 'Orange'})\n",
      "frozenset({'Hijau', 'Putih'})\n",
      "frozenset({'Merah', 'Kuning'})\n",
      "frozenset({'Kuning', 'Orange'})\n",
      "frozenset({'Putih', 'Kuning'})\n",
      "frozenset({'Merah', 'Orange'})\n",
      "frozenset({'Putih', 'Merah'})\n",
      "frozenset({'Putih', 'Orange'})\n",
      "frozenset({'Hijau', 'Biru', 'Kuning'})\n",
      "frozenset({'Hijau', 'Biru', 'Merah'})\n",
      "frozenset({'Hijau', 'Biru', 'Orange'})\n",
      "frozenset({'Hijau', 'Biru', 'Putih'})\n",
      "frozenset({'Biru', 'Merah', 'Kuning'})\n",
      "frozenset({'Biru', 'Kuning', 'Orange'})\n",
      "frozenset({'Biru', 'Putih', 'Kuning'})\n",
      "frozenset({'Biru', 'Merah', 'Orange'})\n",
      "frozenset({'Putih', 'Biru', 'Merah'})\n",
      "frozenset({'Biru', 'Putih', 'Orange'})\n",
      "frozenset({'Hijau', 'Merah', 'Kuning'})\n",
      "frozenset({'Hijau', 'Kuning', 'Orange'})\n",
      "frozenset({'Hijau', 'Putih', 'Kuning'})\n",
      "frozenset({'Hijau', 'Merah', 'Orange'})\n",
      "frozenset({'Hijau', 'Merah', 'Putih'})\n",
      "frozenset({'Hijau', 'Putih', 'Orange'})\n",
      "frozenset({'Merah', 'Kuning', 'Orange'})\n",
      "frozenset({'Putih', 'Merah', 'Kuning'})\n",
      "frozenset({'Putih', 'Kuning', 'Orange'})\n",
      "frozenset({'Putih', 'Merah', 'Orange'})\n",
      "frozenset({'Hijau', 'Biru', 'Merah', 'Kuning'})\n",
      "frozenset({'Hijau', 'Biru', 'Kuning', 'Orange'})\n",
      "frozenset({'Hijau', 'Biru', 'Putih', 'Kuning'})\n",
      "frozenset({'Hijau', 'Biru', 'Merah', 'Orange'})\n",
      "frozenset({'Hijau', 'Biru', 'Merah', 'Putih'})\n",
      "frozenset({'Hijau', 'Biru', 'Putih', 'Orange'})\n",
      "frozenset({'Biru', 'Merah', 'Kuning', 'Orange'})\n",
      "frozenset({'Putih', 'Biru', 'Merah', 'Kuning'})\n",
      "frozenset({'Biru', 'Putih', 'Kuning', 'Orange'})\n",
      "frozenset({'Putih', 'Biru', 'Merah', 'Orange'})\n",
      "frozenset({'Hijau', 'Merah', 'Kuning', 'Orange'})\n",
      "frozenset({'Hijau', 'Merah', 'Kuning', 'Putih'})\n",
      "frozenset({'Hijau', 'Putih', 'Kuning', 'Orange'})\n",
      "frozenset({'Hijau', 'Merah', 'Putih', 'Orange'})\n",
      "frozenset({'Putih', 'Merah', 'Kuning', 'Orange'})\n",
      "frozenset({'Biru', 'Merah', 'Kuning', 'Orange', 'Hijau'})\n",
      "frozenset({'Biru', 'Merah', 'Kuning', 'Putih', 'Hijau'})\n",
      "frozenset({'Biru', 'Kuning', 'Putih', 'Orange', 'Hijau'})\n",
      "frozenset({'Biru', 'Merah', 'Putih', 'Orange', 'Hijau'})\n",
      "frozenset({'Biru', 'Merah', 'Kuning', 'Putih', 'Orange'})\n",
      "frozenset({'Merah', 'Kuning', 'Putih', 'Orange', 'Hijau'})\n",
      "frozenset({'Biru', 'Merah', 'Kuning', 'Putih', 'Orange', 'Hijau'})\n"
     ]
    }
   ],
   "source": [
    "for i in range(0, len(association_results)):\n",
    "    print(association_results[i][0])"
   ]
  },
  {
   "cell_type": "markdown",
   "metadata": {},
   "source": [
    "## Rules Generated"
   ]
  },
  {
   "cell_type": "code",
   "execution_count": 8,
   "metadata": {
    "ExecuteTime": {
     "end_time": "2019-05-31T11:48:08.589737Z",
     "start_time": "2019-05-31T11:48:08.573742Z"
    },
    "scrolled": false
   },
   "outputs": [
    {
     "name": "stdout",
     "output_type": "stream",
     "text": [
      "Rule: Hijau -> Biru\n",
      "Support: 0.09090909090909091\n",
      "Confidence: 1.0\n",
      "Lift: 11.0\n",
      "=====================================\n",
      "Rule: Biru -> Kuning\n",
      "Support: 0.09090909090909091\n",
      "Confidence: 1.0\n",
      "Lift: 11.0\n",
      "=====================================\n",
      "Rule: Biru -> Merah\n",
      "Support: 0.09090909090909091\n",
      "Confidence: 1.0\n",
      "Lift: 11.0\n",
      "=====================================\n",
      "Rule: Biru -> Orange\n",
      "Support: 0.09090909090909091\n",
      "Confidence: 1.0\n",
      "Lift: 11.0\n",
      "=====================================\n",
      "Rule: Biru -> Putih\n",
      "Support: 0.09090909090909091\n",
      "Confidence: 1.0\n",
      "Lift: 11.0\n",
      "=====================================\n",
      "Rule: Hijau -> Kuning\n",
      "Support: 0.09090909090909091\n",
      "Confidence: 1.0\n",
      "Lift: 11.0\n",
      "=====================================\n",
      "Rule: Hijau -> Merah\n",
      "Support: 0.09090909090909091\n",
      "Confidence: 1.0\n",
      "Lift: 11.0\n",
      "=====================================\n",
      "Rule: Hijau -> Orange\n",
      "Support: 0.09090909090909091\n",
      "Confidence: 1.0\n",
      "Lift: 11.0\n",
      "=====================================\n",
      "Rule: Hijau -> Putih\n",
      "Support: 0.09090909090909091\n",
      "Confidence: 1.0\n",
      "Lift: 11.0\n",
      "=====================================\n",
      "Rule: Merah -> Kuning\n",
      "Support: 0.09090909090909091\n",
      "Confidence: 1.0\n",
      "Lift: 11.0\n",
      "=====================================\n",
      "Rule: Kuning -> Orange\n",
      "Support: 0.09090909090909091\n",
      "Confidence: 1.0\n",
      "Lift: 11.0\n",
      "=====================================\n",
      "Rule: Putih -> Kuning\n",
      "Support: 0.09090909090909091\n",
      "Confidence: 1.0\n",
      "Lift: 11.0\n",
      "=====================================\n",
      "Rule: Merah -> Orange\n",
      "Support: 0.09090909090909091\n",
      "Confidence: 1.0\n",
      "Lift: 11.0\n",
      "=====================================\n",
      "Rule: Putih -> Merah\n",
      "Support: 0.09090909090909091\n",
      "Confidence: 1.0\n",
      "Lift: 11.0\n",
      "=====================================\n",
      "Rule: Putih -> Orange\n",
      "Support: 0.09090909090909091\n",
      "Confidence: 1.0\n",
      "Lift: 11.0\n",
      "=====================================\n",
      "Rule: Hijau -> Biru\n",
      "Support: 0.09090909090909091\n",
      "Confidence: 1.0\n",
      "Lift: 11.0\n",
      "=====================================\n",
      "Rule: Hijau -> Biru\n",
      "Support: 0.09090909090909091\n",
      "Confidence: 1.0\n",
      "Lift: 11.0\n",
      "=====================================\n",
      "Rule: Hijau -> Biru\n",
      "Support: 0.09090909090909091\n",
      "Confidence: 1.0\n",
      "Lift: 11.0\n",
      "=====================================\n",
      "Rule: Hijau -> Biru\n",
      "Support: 0.09090909090909091\n",
      "Confidence: 1.0\n",
      "Lift: 11.0\n",
      "=====================================\n",
      "Rule: Biru -> Merah\n",
      "Support: 0.09090909090909091\n",
      "Confidence: 1.0\n",
      "Lift: 11.0\n",
      "=====================================\n",
      "Rule: Biru -> Kuning\n",
      "Support: 0.09090909090909091\n",
      "Confidence: 1.0\n",
      "Lift: 11.0\n",
      "=====================================\n",
      "Rule: Biru -> Putih\n",
      "Support: 0.09090909090909091\n",
      "Confidence: 1.0\n",
      "Lift: 11.0\n",
      "=====================================\n",
      "Rule: Biru -> Merah\n",
      "Support: 0.09090909090909091\n",
      "Confidence: 1.0\n",
      "Lift: 11.0\n",
      "=====================================\n",
      "Rule: Putih -> Biru\n",
      "Support: 0.09090909090909091\n",
      "Confidence: 1.0\n",
      "Lift: 11.0\n",
      "=====================================\n",
      "Rule: Biru -> Putih\n",
      "Support: 0.09090909090909091\n",
      "Confidence: 1.0\n",
      "Lift: 11.0\n",
      "=====================================\n",
      "Rule: Hijau -> Merah\n",
      "Support: 0.09090909090909091\n",
      "Confidence: 1.0\n",
      "Lift: 11.0\n",
      "=====================================\n",
      "Rule: Hijau -> Kuning\n",
      "Support: 0.09090909090909091\n",
      "Confidence: 1.0\n",
      "Lift: 11.0\n",
      "=====================================\n",
      "Rule: Hijau -> Putih\n",
      "Support: 0.09090909090909091\n",
      "Confidence: 1.0\n",
      "Lift: 11.0\n",
      "=====================================\n",
      "Rule: Hijau -> Merah\n",
      "Support: 0.09090909090909091\n",
      "Confidence: 1.0\n",
      "Lift: 11.0\n",
      "=====================================\n",
      "Rule: Hijau -> Merah\n",
      "Support: 0.09090909090909091\n",
      "Confidence: 1.0\n",
      "Lift: 11.0\n",
      "=====================================\n",
      "Rule: Hijau -> Putih\n",
      "Support: 0.09090909090909091\n",
      "Confidence: 1.0\n",
      "Lift: 11.0\n",
      "=====================================\n",
      "Rule: Merah -> Kuning\n",
      "Support: 0.09090909090909091\n",
      "Confidence: 1.0\n",
      "Lift: 11.0\n",
      "=====================================\n",
      "Rule: Putih -> Merah\n",
      "Support: 0.09090909090909091\n",
      "Confidence: 1.0\n",
      "Lift: 11.0\n",
      "=====================================\n",
      "Rule: Putih -> Kuning\n",
      "Support: 0.09090909090909091\n",
      "Confidence: 1.0\n",
      "Lift: 11.0\n",
      "=====================================\n",
      "Rule: Putih -> Merah\n",
      "Support: 0.09090909090909091\n",
      "Confidence: 1.0\n",
      "Lift: 11.0\n",
      "=====================================\n",
      "Rule: Hijau -> Biru\n",
      "Support: 0.09090909090909091\n",
      "Confidence: 1.0\n",
      "Lift: 11.0\n",
      "=====================================\n",
      "Rule: Hijau -> Biru\n",
      "Support: 0.09090909090909091\n",
      "Confidence: 1.0\n",
      "Lift: 11.0\n",
      "=====================================\n",
      "Rule: Hijau -> Biru\n",
      "Support: 0.09090909090909091\n",
      "Confidence: 1.0\n",
      "Lift: 11.0\n",
      "=====================================\n",
      "Rule: Hijau -> Biru\n",
      "Support: 0.09090909090909091\n",
      "Confidence: 1.0\n",
      "Lift: 11.0\n",
      "=====================================\n",
      "Rule: Hijau -> Biru\n",
      "Support: 0.09090909090909091\n",
      "Confidence: 1.0\n",
      "Lift: 11.0\n",
      "=====================================\n",
      "Rule: Hijau -> Biru\n",
      "Support: 0.09090909090909091\n",
      "Confidence: 1.0\n",
      "Lift: 11.0\n",
      "=====================================\n",
      "Rule: Biru -> Merah\n",
      "Support: 0.09090909090909091\n",
      "Confidence: 1.0\n",
      "Lift: 11.0\n",
      "=====================================\n",
      "Rule: Putih -> Biru\n",
      "Support: 0.09090909090909091\n",
      "Confidence: 1.0\n",
      "Lift: 11.0\n",
      "=====================================\n",
      "Rule: Biru -> Putih\n",
      "Support: 0.09090909090909091\n",
      "Confidence: 1.0\n",
      "Lift: 11.0\n",
      "=====================================\n",
      "Rule: Putih -> Biru\n",
      "Support: 0.09090909090909091\n",
      "Confidence: 1.0\n",
      "Lift: 11.0\n",
      "=====================================\n",
      "Rule: Hijau -> Merah\n",
      "Support: 0.09090909090909091\n",
      "Confidence: 1.0\n",
      "Lift: 11.0\n",
      "=====================================\n",
      "Rule: Hijau -> Merah\n",
      "Support: 0.09090909090909091\n",
      "Confidence: 1.0\n",
      "Lift: 11.0\n",
      "=====================================\n",
      "Rule: Hijau -> Putih\n",
      "Support: 0.09090909090909091\n",
      "Confidence: 1.0\n",
      "Lift: 11.0\n",
      "=====================================\n",
      "Rule: Hijau -> Merah\n",
      "Support: 0.09090909090909091\n",
      "Confidence: 1.0\n",
      "Lift: 11.0\n",
      "=====================================\n",
      "Rule: Putih -> Merah\n",
      "Support: 0.09090909090909091\n",
      "Confidence: 1.0\n",
      "Lift: 11.0\n",
      "=====================================\n",
      "Rule: Biru -> Merah\n",
      "Support: 0.09090909090909091\n",
      "Confidence: 1.0\n",
      "Lift: 11.0\n",
      "=====================================\n",
      "Rule: Biru -> Merah\n",
      "Support: 0.09090909090909091\n",
      "Confidence: 1.0\n",
      "Lift: 11.0\n",
      "=====================================\n",
      "Rule: Biru -> Kuning\n",
      "Support: 0.09090909090909091\n",
      "Confidence: 1.0\n",
      "Lift: 11.0\n",
      "=====================================\n",
      "Rule: Biru -> Merah\n",
      "Support: 0.09090909090909091\n",
      "Confidence: 1.0\n",
      "Lift: 11.0\n",
      "=====================================\n",
      "Rule: Biru -> Merah\n",
      "Support: 0.09090909090909091\n",
      "Confidence: 1.0\n",
      "Lift: 11.0\n",
      "=====================================\n",
      "Rule: Merah -> Kuning\n",
      "Support: 0.09090909090909091\n",
      "Confidence: 1.0\n",
      "Lift: 11.0\n",
      "=====================================\n",
      "Rule: Biru -> Merah\n",
      "Support: 0.09090909090909091\n",
      "Confidence: 1.0\n",
      "Lift: 11.0\n",
      "=====================================\n"
     ]
    }
   ],
   "source": [
    "for item in association_results:\n",
    "    # first index of the inner list\n",
    "    # Contains base item and add item\n",
    "    pair = item[0]\n",
    "    items = [x for x in pair]\n",
    "    print(\"Rule: \" + items[0] + \" -> \" + items[1])\n",
    "\n",
    "    # second index of the inner list\n",
    "    print(\"Support: \" + str(item[1]))\n",
    "\n",
    "    # third index of the list located at 0th\n",
    "    # of the third index of the inner list\n",
    "\n",
    "    print(\"Confidence: \" + str(item[2][0][2]))\n",
    "    print(\"Lift: \" + str(item[2][0][3]))\n",
    "    print(\"=====================================\")"
   ]
  },
  {
   "cell_type": "code",
   "execution_count": null,
   "metadata": {},
   "outputs": [],
   "source": []
  }
 ],
 "metadata": {
  "hide_input": false,
  "kernelspec": {
   "display_name": "Python 3",
   "language": "python",
   "name": "python3"
  },
  "language_info": {
   "codemirror_mode": {
    "name": "ipython",
    "version": 3
   },
   "file_extension": ".py",
   "mimetype": "text/x-python",
   "name": "python",
   "nbconvert_exporter": "python",
   "pygments_lexer": "ipython3",
   "version": "3.8.3"
  },
  "latex_envs": {
   "LaTeX_envs_menu_present": true,
   "autoclose": false,
   "autocomplete": true,
   "bibliofile": "biblio.bib",
   "cite_by": "apalike",
   "current_citInitial": 1,
   "eqLabelWithNumbers": true,
   "eqNumInitial": 1,
   "hotkeys": {
    "equation": "Ctrl-E",
    "itemize": "Ctrl-I"
   },
   "labels_anchors": false,
   "latex_user_defs": false,
   "report_style_numbering": false,
   "user_envs_cfg": false
  },
  "nbTranslate": {
   "displayLangs": [
    "*"
   ],
   "hotkey": "alt-t",
   "langInMainMenu": true,
   "sourceLang": "en",
   "targetLang": "fr",
   "useGoogleTranslate": true
  },
  "toc": {
   "base_numbering": 1,
   "nav_menu": {},
   "number_sections": true,
   "sideBar": true,
   "skip_h1_title": false,
   "title_cell": "Table of Contents",
   "title_sidebar": "Contents",
   "toc_cell": false,
   "toc_position": {},
   "toc_section_display": true,
   "toc_window_display": false
  },
  "varInspector": {
   "cols": {
    "lenName": 16,
    "lenType": 16,
    "lenVar": 40
   },
   "kernels_config": {
    "python": {
     "delete_cmd_postfix": "",
     "delete_cmd_prefix": "del ",
     "library": "var_list.py",
     "varRefreshCmd": "print(var_dic_list())"
    },
    "r": {
     "delete_cmd_postfix": ") ",
     "delete_cmd_prefix": "rm(",
     "library": "var_list.r",
     "varRefreshCmd": "cat(var_dic_list()) "
    }
   },
   "types_to_exclude": [
    "module",
    "function",
    "builtin_function_or_method",
    "instance",
    "_Feature"
   ],
   "window_display": false
  }
 },
 "nbformat": 4,
 "nbformat_minor": 2
}
